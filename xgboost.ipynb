{
 "cells": [
  {
   "cell_type": "code",
   "execution_count": null,
   "id": "17a93630-4035-413a-8574-151e99badd03",
   "metadata": {},
   "outputs": [],
   "source": [
    "from sklearn.model_selection import GridSearchCV\n",
    "from sklearn.metrics import mean_absolute_error\n",
    "from utils import prep_data\n",
    "from pathlib import Path\n",
    "import pandas as pd\n",
    "import xgboost as xgb\n",
    "import numpy as np"
   ]
  },
  {
   "cell_type": "code",
   "execution_count": null,
   "id": "20cefdc7-1d5c-41fc-beef-89a461a70545",
   "metadata": {},
   "outputs": [],
   "source": [
    "DATA_FOLDER = Path(\"./cedas2025_material/data\")\n",
    "data_path = DATA_FOLDER / \"chargecurves_train.parquet\"\n",
    "(X_train, y_train), (X_val, y_val) = prep_data(data_path, do_split=True)"
   ]
  },
  {
   "cell_type": "code",
   "execution_count": null,
   "id": "639a4bc8-c173-480c-8f0b-195c6a8158a0",
   "metadata": {},
   "outputs": [],
   "source": [
    "# Various hyper-parameters to tune, using grid search CV on the pipeline\n",
    "model_xgb = xgb.XGBRegressor(tree_method=\"hist\",\n",
    "                             objective=\"reg:squarederror\", \n",
    "                             eval_metric=mean_absolute_error)\n",
    "\n",
    "# parameter grids\n",
    "parameters =  {\n",
    "              'learning_rate': [.01, .005], \n",
    "              'max_depth': [5, 10],\n",
    "              'subsample': [0.4, 0.7],\n",
    "              'colsample_bytree': [0.7],\n",
    "              'n_estimators': [500, 800],\n",
    "              \"n_estimators\": [10],\n",
    "              'reg_lambda':  [0.8]}\n",
    "\n",
    "xgb_grid = GridSearchCV(model_xgb,\n",
    "                        parameters,\n",
    "                        cv = 5,\n",
    "                        n_jobs = 5,\n",
    "                        verbose=4,\n",
    "                        scoring=\"neg_mean_absolute_error\",\n",
    "                       )\n",
    "\n",
    "xgb_grid.fit(X_train, y_train)\n",
    "\n",
    "best_score = xgb_grid.best_score_\n",
    "best_params = xgb_grid.best_params_\n",
    "print(f\"{best_score=}\")\n",
    "print(f\"{best_params=}\")"
   ]
  },
  {
   "cell_type": "code",
   "execution_count": null,
   "id": "ca125396-48af-4663-8462-550cb6575714",
   "metadata": {},
   "outputs": [],
   "source": [
    "model = xgb.XGBRegressor(tree_method=\"hist\",\n",
    "                         objective=\"reg:squarederror\", \n",
    "                         eval_metric=mean_absolute_error,\n",
    "                        **best_params)"
   ]
  },
  {
   "cell_type": "code",
   "execution_count": null,
   "id": "8e65a2ec-512a-4c65-bd7c-cad14e36b560",
   "metadata": {},
   "outputs": [],
   "source": [
    "model.fit(X_train, y_train)"
   ]
  },
  {
   "cell_type": "code",
   "execution_count": null,
   "id": "bf51d3f8-4eec-477b-bb3a-b03cbd9f362a",
   "metadata": {},
   "outputs": [],
   "source": [
    "preds = model.predict(X_val)\n",
    "\n",
    "# Evaluate the model\n",
    "score = mean_absolute_error(y_val, preds)"
   ]
  },
  {
   "cell_type": "code",
   "execution_count": null,
   "id": "d7e35813-654c-4771-bc26-2e4fa6ff910e",
   "metadata": {},
   "outputs": [],
   "source": [
    "score"
   ]
  },
  {
   "cell_type": "code",
   "execution_count": null,
   "id": "c3c9cf45-7511-4761-9fc0-670bff485023",
   "metadata": {},
   "outputs": [],
   "source": [
    "X_val_holdback, y_val_holdback = prep_data(DATA_FOLDER / \"chargecurves_validation_holdback.parquet\", do_split=False, eval_set=True)"
   ]
  },
  {
   "cell_type": "code",
   "execution_count": null,
   "id": "e0b92263-2adf-4d22-814e-ac6d8ff767ef",
   "metadata": {},
   "outputs": [],
   "source": [
    "val_holdback_preds = model.predict(X_val_holdback)"
   ]
  },
  {
   "cell_type": "code",
   "execution_count": null,
   "id": "19feb74d-5f29-476a-a443-eacdef09867c",
   "metadata": {},
   "outputs": [],
   "source": [
    "val_holdback = pd.read_parquet(DATA_FOLDER / \"chargecurves_validation_holdback.parquet\")\n",
    "val_holdback[\"power_pred\"] = val_holdback_preds\n",
    "val_holdback[\"power\"] = val_holdback[\"power\"].fillna(val_holdback[\"power_pred\"])\n",
    "val_holdback.drop(\"power_pred\", axis=1)\n",
    "val_holdback.to_csv(\"val_preds2.csv\")\n",
    "val_holdback.to_parquet(\"val_preds2.parquet\")"
   ]
  },
  {
   "cell_type": "code",
   "execution_count": null,
   "id": "4b83239b-928d-4c95-a5b7-021361e1b536",
   "metadata": {},
   "outputs": [],
   "source": [
    "test_holdback = pd.read_parquet(DATA_FOLDER / \"chargecurves_test_holdback.parquet\")\n",
    "test_holdback[\"power_pred\"] = test_holdback_preds\n",
    "test_holdback[\"power\"] = test_holdback[\"power\"].fillna(test_holdback[\"power_pred\"])\n",
    "test_holdback.drop(\"power_pred\",axis=1)\n",
    "test_holdback.to_csv(\"test_preds2.csv\")\n",
    "test_holdback.to_parquet(\"test_preds2.parquet\")"
   ]
  }
 ],
 "metadata": {
  "kernelspec": {
   "display_name": "Python 3 (ipykernel)",
   "language": "python",
   "name": "python3"
  },
  "language_info": {
   "codemirror_mode": {
    "name": "ipython",
    "version": 3
   },
   "file_extension": ".py",
   "mimetype": "text/x-python",
   "name": "python",
   "nbconvert_exporter": "python",
   "pygments_lexer": "ipython3",
   "version": "3.12.4"
  }
 },
 "nbformat": 4,
 "nbformat_minor": 5
}
