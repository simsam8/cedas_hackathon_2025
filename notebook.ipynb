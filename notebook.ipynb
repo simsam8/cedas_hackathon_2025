{
 "cells": [
  {
   "cell_type": "code",
   "execution_count": null,
   "id": "0430bc76-dac5-4a25-ac5d-265ddee9ee21",
   "metadata": {},
   "outputs": [],
   "source": [
    "import pandas as pd"
   ]
  },
  {
   "cell_type": "code",
   "execution_count": null,
   "id": "56932110-b8da-47da-8744-38302a65b812",
   "metadata": {},
   "outputs": [],
   "source": [
    "DATA_FOLDER = \"./cedas2025_material/data/\""
   ]
  },
  {
   "cell_type": "code",
   "execution_count": null,
   "id": "c60d1769-2031-4f6d-a1b0-a11b0b12d4d3",
   "metadata": {},
   "outputs": [],
   "source": [
    "df = pd.read_parquet(DATA_FOLDER + \"chargecurves_train.parquet\")"
   ]
  },
  {
   "cell_type": "code",
   "execution_count": null,
   "id": "f78f1300-bbe7-47b9-b217-e3199428efcd",
   "metadata": {},
   "outputs": [],
   "source": [
    "df"
   ]
  }
 ],
 "metadata": {
  "kernelspec": {
   "display_name": "Python 3 (ipykernel)",
   "language": "python",
   "name": "python3"
  },
  "language_info": {
   "codemirror_mode": {
    "name": "ipython",
    "version": 3
   },
   "file_extension": ".py",
   "mimetype": "text/x-python",
   "name": "python",
   "nbconvert_exporter": "python",
   "pygments_lexer": "ipython3",
   "version": "3.12.4"
  }
 },
 "nbformat": 4,
 "nbformat_minor": 5
}
