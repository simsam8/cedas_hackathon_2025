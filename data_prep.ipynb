{
 "cells": [
  {
   "cell_type": "code",
   "execution_count": null,
   "id": "0430bc76-dac5-4a25-ac5d-265ddee9ee21",
   "metadata": {},
   "outputs": [],
   "source": [
    "import pandas as pd\n",
    "import numpy as np"
   ]
  },
  {
   "cell_type": "code",
   "execution_count": null,
   "id": "56932110-b8da-47da-8744-38302a65b812",
   "metadata": {},
   "outputs": [],
   "source": [
    "DATA_FOLDER = \"./cedas2025_material/data/\""
   ]
  },
  {
   "cell_type": "code",
   "execution_count": null,
   "id": "c60d1769-2031-4f6d-a1b0-a11b0b12d4d3",
   "metadata": {},
   "outputs": [],
   "source": [
    "df = pd.read_parquet(DATA_FOLDER + \"chargecurves_train.parquet\")"
   ]
  },
  {
   "cell_type": "code",
   "execution_count": null,
   "id": "6e6cb112-29b4-47d3-a26a-47c5d75e074f",
   "metadata": {},
   "outputs": [],
   "source": [
    "def prep_data(df: pd.DataFrame) -> None:\n",
    "    # TODO: figure out what to do with soc in prediction\n",
    "    \"\"\"\n",
    "    train: soc, nominal_power, location_id, sub_id\n",
    "    label: power\n",
    "    \"\"\"\n",
    "    df = df.groupby(\"id\").agg(list)\n",
    "    sessions = []\n",
    "    labels = []\n",
    "    for i, row in df.drop(\"timestamp\", axis=1).iterrows():\n",
    "        soc, power, nominal_power, location_id, sub_id = row\n",
    "        session = np.empty((40,4))\n",
    "        label = np.empty((40))\n",
    "        session_length = len(soc)\n",
    "        for i in range(session_length):\n",
    "            session[i] = np.array([soc[i], nominal_power[i], location_id[i], sub_id[i]])\n",
    "            label[i] = power[i]\n",
    "    \n",
    "        sessions.append(session)\n",
    "        labels.append(label)\n",
    "        \n",
    "    \n",
    "    sessions = np.array(sessions)\n",
    "    labels = np.array(labels)\n",
    "\n",
    "    \n",
    "    # np.save(\"train_data.npy\", sessions)\n",
    "    return sessions, labels"
   ]
  },
  {
   "cell_type": "code",
   "execution_count": null,
   "id": "b6122f8d-94a2-4c2e-9f61-0ccacbe7322b",
   "metadata": {},
   "outputs": [],
   "source": [
    "sess, lab = prep_data(df)"
   ]
  },
  {
   "cell_type": "code",
   "execution_count": null,
   "id": "d348612c-ad0e-4296-9a4b-e16b4cd07551",
   "metadata": {},
   "outputs": [],
   "source": [
    "sess.shape"
   ]
  },
  {
   "cell_type": "code",
   "execution_count": null,
   "id": "71724f29-3004-4eb8-ad60-2d00856a8212",
   "metadata": {},
   "outputs": [],
   "source": [
    "lab.shape"
   ]
  }
 ],
 "metadata": {
  "kernelspec": {
   "display_name": "Python 3 (ipykernel)",
   "language": "python",
   "name": "python3"
  },
  "language_info": {
   "codemirror_mode": {
    "name": "ipython",
    "version": 3
   },
   "file_extension": ".py",
   "mimetype": "text/x-python",
   "name": "python",
   "nbconvert_exporter": "python",
   "pygments_lexer": "ipython3",
   "version": "3.12.4"
  }
 },
 "nbformat": 4,
 "nbformat_minor": 5
}
