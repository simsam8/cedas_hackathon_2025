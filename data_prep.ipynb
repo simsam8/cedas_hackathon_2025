{
 "cells": [
  {
   "cell_type": "code",
   "execution_count": null,
   "id": "0430bc76-dac5-4a25-ac5d-265ddee9ee21",
   "metadata": {},
   "outputs": [],
   "source": [
    "import pandas as pd\n",
    "import numpy as np\n",
    "from pathlib import Path\n",
    "from utils import prep_data\n",
    "from sklearn.ensemble import HistGradientBoostingRegressor\n",
    "from sklearn.impute import KNNImputer,SimpleImputer"
   ]
  },
  {
   "cell_type": "code",
   "execution_count": null,
   "id": "56932110-b8da-47da-8744-38302a65b812",
   "metadata": {},
   "outputs": [],
   "source": [
    "DATA_FOLDER = Path(\"./cedas2025_material/data\")"
   ]
  },
  {
   "cell_type": "code",
   "execution_count": null,
   "id": "c60d1769-2031-4f6d-a1b0-a11b0b12d4d3",
   "metadata": {},
   "outputs": [],
   "source": [
    "data = pd.read_parquet(DATA_FOLDER / \"chargecurves_train.parquet\")\n",
    "# val = pd.read_parquet(DATA_FOLDER  / \"chargecurves_validation_holdback.parquet\")"
   ]
  },
  {
   "cell_type": "code",
   "execution_count": null,
   "id": "9b6d6122-c780-4e80-ad97-a322c956e862",
   "metadata": {},
   "outputs": [],
   "source": [
    "def create_dummy_predictions(df: pd.DataFrame):\n",
    "    df[\"power\"] = df[\"power\"].replace(np.nan, 1)\n",
    "    df.to_parquet(\"val_preds.parquet\")"
   ]
  },
  {
   "cell_type": "code",
   "execution_count": null,
   "id": "2152d0cd-06c2-4801-86f6-8ba98884405e",
   "metadata": {},
   "outputs": [],
   "source": [
    "data"
   ]
  },
  {
   "cell_type": "code",
   "execution_count": null,
   "id": "667503bc-c30d-4f89-8676-734011184f52",
   "metadata": {},
   "outputs": [],
   "source": [
    "data = data.drop(\"timestamp\", axis=1)\n",
    "data_X, data_y = data[[\"id\", \"soc\", \"nominal_power\", \"location_id\", \"sub_id\"]], data[[\"power\"]]"
   ]
  },
  {
   "cell_type": "code",
   "execution_count": null,
   "id": "59837502-0841-48ec-9eda-99401c133726",
   "metadata": {},
   "outputs": [],
   "source": [
    "# test = data.groupby(\"id\").transform(pd.DataFrame.interpolate\n",
    "# test = data\n",
    "test = data.groupby('id')['soc'].apply(lambda x : x.interpolate(method = \"spline\", order = 1, limit_direction = \"both\"))\n",
    "# for i in range(len(test.id.unique())):\n",
    "#   mask = test.loc[:,'id']==test.id.unique()[i]\n",
    "#   test[mask]=test[mask].interpolate(method='index', limit_direction=\"both\")"
   ]
  },
  {
   "cell_type": "code",
   "execution_count": null,
   "id": "20794869-ea79-4c25-918b-52aac88e8188",
   "metadata": {},
   "outputs": [],
   "source": [
    "# test[test[\"soc\"].isna()]\n",
    "interpolated = test.reset_index().drop([\"id\", \"level_1\"], axis=1)"
   ]
  },
  {
   "cell_type": "code",
   "execution_count": null,
   "id": "1a0bc42d-4a21-46b1-aa1e-56b67a1b203e",
   "metadata": {},
   "outputs": [],
   "source": [
    "interpolated[\"soc\"]"
   ]
  },
  {
   "cell_type": "code",
   "execution_count": null,
   "id": "db77538a-fdc7-488a-9292-adc44e19662e",
   "metadata": {},
   "outputs": [],
   "source": [
    "data[data[\"soc\"] != interpolated[\"soc\"]"
   ]
  },
  {
   "cell_type": "code",
   "execution_count": null,
   "id": "1867ff35-5d7b-49c7-b651-bef55ff62a23",
   "metadata": {},
   "outputs": [],
   "source": [
    "train_size = int(len(data) * .8)\n",
    "train_X, train_y = data_X[:train_size], data_y[:train_size]\n",
    "val_X, val_y = data_X[train_size:], data_y[train_size:]"
   ]
  },
  {
   "cell_type": "code",
   "execution_count": null,
   "id": "5f738a65-1872-4cb8-b2db-7aadf68f9f94",
   "metadata": {},
   "outputs": [],
   "source": [
    "data[data[\"id\"] == 1764]"
   ]
  },
  {
   "cell_type": "code",
   "execution_count": null,
   "id": "9d4e1539-948c-41c2-b95c-633ae122d0ce",
   "metadata": {},
   "outputs": [],
   "source": [
    "train_X[train_X[\"soc\"].isna()]"
   ]
  },
  {
   "cell_type": "code",
   "execution_count": null,
   "id": "09ef3f19-d6b5-49dc-9a31-be5c12f2b4b8",
   "metadata": {},
   "outputs": [],
   "source": [
    "data[data[\"power\"].isna() & data[\"soc\"].isna()][\"id\"].value_counts()"
   ]
  },
  {
   "cell_type": "code",
   "execution_count": null,
   "id": "1af52408-1949-43bd-9118-da4ad21489cf",
   "metadata": {},
   "outputs": [],
   "source": [
    "data[\"power\"].dropna()"
   ]
  },
  {
   "cell_type": "code",
   "execution_count": null,
   "id": "3c00ce19-f280-4da6-9ca3-36593d5c7958",
   "metadata": {},
   "outputs": [],
   "source": [
    "data[\"power\"].describe()"
   ]
  }
 ],
 "metadata": {
  "kernelspec": {
   "display_name": "Python 3 (ipykernel)",
   "language": "python",
   "name": "python3"
  },
  "language_info": {
   "codemirror_mode": {
    "name": "ipython",
    "version": 3
   },
   "file_extension": ".py",
   "mimetype": "text/x-python",
   "name": "python",
   "nbconvert_exporter": "python",
   "pygments_lexer": "ipython3",
   "version": "3.12.4"
  }
 },
 "nbformat": 4,
 "nbformat_minor": 5
}
