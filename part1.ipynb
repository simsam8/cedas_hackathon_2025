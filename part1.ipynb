{
 "cells": [
  {
   "cell_type": "code",
   "execution_count": 1,
   "metadata": {},
   "outputs": [],
   "source": [
    "import matplotlib.pyplot as plt\n",
    "import pandas as pd\n",
    "import seaborn as sns"
   ]
  },
  {
   "cell_type": "code",
   "execution_count": 2,
   "metadata": {},
   "outputs": [],
   "source": [
    "DATA_FOLDER = \"./data/\""
   ]
  },
  {
   "cell_type": "code",
   "execution_count": 3,
   "metadata": {},
   "outputs": [],
   "source": [
    "df = pd.read_parquet(DATA_FOLDER + \"chargecurves_train.parquet\")"
   ]
  },
  {
   "cell_type": "code",
   "execution_count": null,
   "metadata": {},
   "outputs": [],
   "source": [
    "df.describe()"
   ]
  },
  {
   "cell_type": "code",
   "execution_count": 27,
   "metadata": {},
   "outputs": [],
   "source": [
    "def plot_timeseries(group):\n",
    "    print(group['nominal_power'].iloc[0])\n",
    "    \n",
    "    fig, ax1 = plt.subplots(figsize=(10, 6))\n",
    "    group_id = group['id'].iloc[0]\n",
    "    \n",
    "    group = group.copy()\n",
    "    group['time_str'] = group['timestamp'].dt.strftime('%H:%M')\n",
    "    \n",
    "    ax1.plot(group['time_str'], group['soc'], linestyle='-', color='b', label='SOC')\n",
    "    ax1.set_xlabel('Time')\n",
    "    ax1.set_ylabel('State of Charge (SOC)', color='b')\n",
    "    ax1.tick_params(axis='y', labelcolor='b')\n",
    "    \n",
    "    ax2 = ax1.twinx()\n",
    "    ax2.plot(group['time_str'], group['power'], linestyle='-', color='r', label='Power')\n",
    "    # Provide both x and y for nominal power so it aligns with the time axis\n",
    "    ax2.plot(group['time_str'], group['nominal_power'], linestyle='--', color='k', label='Nominal Power')\n",
    "    ax2.set_ylabel('Power', color='r')\n",
    "    ax2.tick_params(axis='y', labelcolor='r')\n",
    "    \n",
    "    N = max(len(group) // 10, 1)\n",
    "    ax1.set_xticks(group['time_str'].iloc[::N])\n",
    "    \n",
    "    ax1.set_title(f'Group ID: {group_id}')\n",
    "    ax1.grid(True, linestyle='--', alpha=0.5)\n",
    "    \n",
    "    plt.xticks(rotation=45)\n",
    "    plt.show()\n"
   ]
  },
  {
   "cell_type": "markdown",
   "metadata": {},
   "source": [
    "### Data Preprocessing and Cleaning"
   ]
  },
  {
   "cell_type": "code",
   "execution_count": 6,
   "metadata": {},
   "outputs": [],
   "source": [
    "df.dropna(inplace=True)"
   ]
  },
  {
   "cell_type": "markdown",
   "metadata": {},
   "source": [
    "Finding the sessions with few datapoints"
   ]
  },
  {
   "cell_type": "code",
   "execution_count": 10,
   "metadata": {},
   "outputs": [],
   "source": [
    "grouped_df = df.groupby('id')\n",
    "grouped_counts = grouped_df.count()\n",
    "short_sessions_df = grouped_counts.loc[grouped_counts['timestamp'] < 5]\n",
    "short_sessions_ids = list(short_sessions_df.index)"
   ]
  },
  {
   "cell_type": "markdown",
   "metadata": {},
   "source": [
    "A typical short-sessioned datapoint, not very useful"
   ]
  },
  {
   "cell_type": "code",
   "execution_count": null,
   "metadata": {},
   "outputs": [],
   "source": [
    "grouped_df.get_group(short_sessions_ids[15])"
   ]
  },
  {
   "cell_type": "code",
   "execution_count": null,
   "metadata": {},
   "outputs": [],
   "source": [
    "plot_timeseries(grouped_df.get_group(short_sessions_ids[15]))"
   ]
  },
  {
   "cell_type": "code",
   "execution_count": null,
   "metadata": {},
   "outputs": [],
   "source": [
    "plot_timeseries(grouped_df.get_group(1))"
   ]
  },
  {
   "cell_type": "markdown",
   "metadata": {},
   "source": [
    "Removing all datapoints with less than 5 loggings"
   ]
  },
  {
   "cell_type": "code",
   "execution_count": null,
   "metadata": {},
   "outputs": [],
   "source": [
    "df = df[~df['id'].isin(short_sessions_ids)]"
   ]
  },
  {
   "cell_type": "markdown",
   "metadata": {},
   "source": [
    "### Featuere Engineering"
   ]
  },
  {
   "cell_type": "code",
   "execution_count": 59,
   "metadata": {},
   "outputs": [],
   "source": [
    "def compute_total_charged(group):\n",
    "    group = group.sort_values('timestamp')\n",
    "    \n",
    "    # Compute the time differences between consecutive readings in hours.\n",
    "    time_diffs = group['timestamp'].diff().dt.total_seconds()/ 3600.0  # hours\n",
    "    \n",
    "    # Approximate energy delivered in each interval: power (kW) * time (h)\n",
    "    # Then sum over the session.\n",
    "    energy = group['power'] * time_diffs\n",
    "    return energy.sum()"
   ]
  },
  {
   "cell_type": "code",
   "execution_count": null,
   "metadata": {},
   "outputs": [],
   "source": [
    "session_df = df.groupby('id').apply(lambda group: pd.Series({\n",
    "    'start_time': group['timestamp'].min(),\n",
    "    'end_time': group['timestamp'].max(),\n",
    "    'nominal_power': group['nominal_power'].iloc[0],\n",
    "    'duration': group['timestamp'].max() - group['timestamp'].min(),\n",
    "    'total_charged': group['soc'].max() - group['soc'].min()\n",
    "}))\n",
    "\n",
    "session_df['charging_rate_kW'] = session_df['total_charged'] / (session_df['duration'].dt.total_seconds() / 3600)"
   ]
  },
  {
   "cell_type": "code",
   "execution_count": null,
   "metadata": {},
   "outputs": [],
   "source": [
    "session_df.head()"
   ]
  },
  {
   "cell_type": "markdown",
   "metadata": {},
   "source": [
    "Checking for seasonal differences"
   ]
  },
  {
   "cell_type": "code",
   "execution_count": null,
   "metadata": {},
   "outputs": [],
   "source": [
    "months = list(range(1, 13))\n",
    "month_names = [\"January\", \"February\", \"March\", \"April\", \"May\", \"June\",\n",
    "               \"July\", \"August\", \"September\", \"October\", \"November\", \"December\"]\n",
    "\n",
    "avg_total_charged_by_month = []\n",
    "\n",
    "for month in months:\n",
    "    month_df = session_df.loc[session_df['start_time'].dt.month == month]\n",
    "    month_session_total = month_df['total_charged']\n",
    "    avg_total_charged_month = month_session_total.mean()\n",
    "    avg_total_charged_by_month.append(avg_total_charged_month)\n",
    "    print(f'Month {month_names[month-1]} avg total charged: {avg_total_charged_month}')\n",
    "\n",
    "plt.figure(figsize=(10, 6))\n",
    "plt.bar(months, avg_total_charged_by_month)\n",
    "\n",
    "plt.xticks(months, month_names, rotation=45)\n",
    "\n",
    "plt.xlabel('Month')\n",
    "plt.ylabel('Average Total Charged per session')\n",
    "plt.title('Average Total Charged per Session by Month')\n",
    "plt.tight_layout()\n",
    "plt.show()"
   ]
  },
  {
   "cell_type": "markdown",
   "metadata": {},
   "source": [
    "### Visualizations"
   ]
  },
  {
   "cell_type": "code",
   "execution_count": null,
   "metadata": {},
   "outputs": [],
   "source": []
  }
 ],
 "metadata": {
  "kernelspec": {
   "display_name": ".venv",
   "language": "python",
   "name": "python3"
  },
  "language_info": {
   "codemirror_mode": {
    "name": "ipython",
    "version": 3
   },
   "file_extension": ".py",
   "mimetype": "text/x-python",
   "name": "python",
   "nbconvert_exporter": "python",
   "pygments_lexer": "ipython3",
   "version": "3.12.4"
  }
 },
 "nbformat": 4,
 "nbformat_minor": 2
}
