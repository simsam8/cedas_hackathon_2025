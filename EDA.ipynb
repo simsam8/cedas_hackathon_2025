{
 "cells": [
  {
   "cell_type": "code",
   "execution_count": 1,
   "metadata": {},
   "outputs": [],
   "source": [
    "import pandas as pd\n",
    "import numpy as np\n",
    "import matplotlib.pyplot as plt"
   ]
  },
  {
   "cell_type": "code",
   "execution_count": 2,
   "metadata": {},
   "outputs": [],
   "source": [
    "df = pd.read_parquet('./data/chargecurves_train.parquet')"
   ]
  },
  {
   "cell_type": "code",
   "execution_count": 3,
   "metadata": {},
   "outputs": [],
   "source": [
    "def plot_timeseries(group):\n",
    "    print(group['nominal_power'].iloc[0])\n",
    "    plt.figure(figsize=(10, 6))\n",
    "\n",
    "    # Create figure and primary y-axis\n",
    "    fig, ax1 = plt.subplots(figsize=(10, 6))\n",
    "    group_id = group['id'].iloc[0]\n",
    "    \n",
    "\n",
    "    # Extract time as HH:MM string\n",
    "    group['time_str'] = group['timestamp'].dt.strftime('%H:%M')\n",
    "\n",
    "    # Plot SOC on primary y-axis\n",
    "    ax1.plot(group['time_str'], group['soc'], linestyle='-', color='b', label='SOC')\n",
    "    ax1.set_xlabel('Time')\n",
    "    ax1.set_ylabel('State of Charge (SOC)', color='b')\n",
    "    ax1.tick_params(axis='y', labelcolor='b')\n",
    "\n",
    "    # Create secondary y-axis for Power\n",
    "    ax2 = ax1.twinx()\n",
    "    ax2.plot(group['time_str'], group['power'], linestyle='-', color='r', label='Power')\n",
    "    ax2.set_ylabel('Power', color='r')\n",
    "    ax2.tick_params(axis='y', labelcolor='r')\n",
    "\n",
    "    # Set x-ticks for readability\n",
    "    N = max(len(group) // 10, 1)  # Show approx 10 labels, but at least 1\n",
    "    ax1.set_xticks(group['time_str'].iloc[::N])\n",
    "\n",
    "    # Improve visualization\n",
    "    ax1.set_title(f'Group ID: {group_id}')\n",
    "    ax1.grid(True, linestyle='--', alpha=0.5)\n",
    "\n",
    "    # Rotate x-axis labels for better readability\n",
    "    plt.xticks(rotation=45)\n",
    "\n",
    "    plt.show()\n"
   ]
  },
  {
   "cell_type": "markdown",
   "metadata": {},
   "source": [
    "### Feature engineering"
   ]
  },
  {
   "cell_type": "code",
   "execution_count": 4,
   "metadata": {},
   "outputs": [],
   "source": [
    "df['duration'] = df.groupby('id')['timestamp'].transform(lambda x: x.max() - x.min())"
   ]
  },
  {
   "cell_type": "code",
   "execution_count": null,
   "metadata": {},
   "outputs": [],
   "source": [
    "df.loc[df['duration'] > '0 days 00:45:00']#.groupby('id').count()"
   ]
  },
  {
   "cell_type": "code",
   "execution_count": null,
   "metadata": {},
   "outputs": [],
   "source": [
    "df.loc[df['duration'] > '0 days 01:59:00'].groupby('location_id').count()"
   ]
  },
  {
   "cell_type": "code",
   "execution_count": 7,
   "metadata": {},
   "outputs": [],
   "source": [
    "df['total_charged'] = df.groupby('id')['soc'].transform(lambda x: x.max() - x.min())\n",
    "df['charging_rate_kW'] = df['total_charged'] / (df['duration'].dt.total_seconds() / 3600)"
   ]
  },
  {
   "cell_type": "markdown",
   "metadata": {},
   "source": [
    "### where nominal power is less than power"
   ]
  },
  {
   "cell_type": "code",
   "execution_count": 8,
   "metadata": {},
   "outputs": [],
   "source": [
    "outliers = df.loc[df['power'] > df['nominal_power']].groupby(['id'])\n",
    "outliers_ids = list(outliers.groups.keys())"
   ]
  },
  {
   "cell_type": "markdown",
   "metadata": {},
   "source": [
    "### investigating the total charged "
   ]
  },
  {
   "cell_type": "code",
   "execution_count": null,
   "metadata": {},
   "outputs": [],
   "source": [
    "df.loc[df['total_charged'] > 80]"
   ]
  },
  {
   "cell_type": "markdown",
   "metadata": {},
   "source": [
    "Checking for seasonal differences"
   ]
  },
  {
   "cell_type": "code",
   "execution_count": null,
   "metadata": {},
   "outputs": [],
   "source": [
    "months = list(range(1, 13))\n",
    "month_names = [\"January\", \"February\", \"March\", \"April\", \"May\", \"June\",\n",
    "               \"July\", \"August\", \"September\", \"October\", \"November\", \"December\"]\n",
    "\n",
    "avg_total_charged_by_month = []\n",
    "\n",
    "for month in months:\n",
    "    month_df = df.loc[df['timestamp'].dt.month == month]\n",
    "    month_session_total = month_df.groupby('id')['total_charged'].max()\n",
    "    avg_total_charged_month = month_session_total.mean()\n",
    "    avg_total_charged_by_month.append(avg_total_charged_month)\n",
    "    print(f'Month {month_names[month-1]} avg total charged: {avg_total_charged_month}')\n",
    "\n",
    "plt.figure(figsize=(10, 6))\n",
    "plt.bar(months, avg_total_charged_by_month)\n",
    "\n",
    "plt.xticks(months, month_names, rotation=45)  # rotate labels if needed\n",
    "\n",
    "plt.xlabel('Month')\n",
    "plt.ylabel('Average Total Charged per session')\n",
    "plt.title('Average Total Charged per Session by Month')\n",
    "plt.tight_layout()\n",
    "plt.show()\n"
   ]
  },
  {
   "cell_type": "markdown",
   "metadata": {},
   "source": [
    "### Grouped by ID, where charging sessions are very short"
   ]
  },
  {
   "cell_type": "code",
   "execution_count": 11,
   "metadata": {},
   "outputs": [],
   "source": [
    "grouped_df = df.groupby('id')"
   ]
  },
  {
   "cell_type": "code",
   "execution_count": null,
   "metadata": {},
   "outputs": [],
   "source": [
    "grouped_df.get_group(139971).head(50)"
   ]
  },
  {
   "cell_type": "code",
   "execution_count": null,
   "metadata": {},
   "outputs": [],
   "source": [
    "grouped_counts = grouped_df.count()\n",
    "grouped_counts"
   ]
  },
  {
   "cell_type": "code",
   "execution_count": 14,
   "metadata": {},
   "outputs": [],
   "source": [
    "short_sessions_df = grouped_counts.loc[grouped_counts['timestamp'] < 5]"
   ]
  },
  {
   "cell_type": "code",
   "execution_count": null,
   "metadata": {},
   "outputs": [],
   "source": [
    "short_sessions_ids = list(short_sessions_df.index)\n",
    "short_sessions_ids"
   ]
  },
  {
   "cell_type": "code",
   "execution_count": null,
   "metadata": {},
   "outputs": [],
   "source": [
    "filtered_df = df[df['id'].isin(short_sessions_ids)]  \n",
    "\n",
    "# Step 3: Group by 'location_id'\n",
    "grouped_location_df = filtered_df.groupby('location_id')\n",
    "\n",
    "# Step 4: Get the first few rows per group\n",
    "grouped_location_df.count()\n"
   ]
  },
  {
   "cell_type": "code",
   "execution_count": null,
   "metadata": {},
   "outputs": [],
   "source": [
    "short_sessions_df.groupby('location_id').count()"
   ]
  },
  {
   "cell_type": "code",
   "execution_count": null,
   "metadata": {},
   "outputs": [],
   "source": [
    "grouped_df.get_group(short_sessions_ids[25]).head()"
   ]
  },
  {
   "cell_type": "code",
   "execution_count": null,
   "metadata": {},
   "outputs": [],
   "source": [
    "plot_timeseries(grouped_df.get_group(short_sessions_ids[25]))"
   ]
  },
  {
   "cell_type": "code",
   "execution_count": null,
   "metadata": {},
   "outputs": [],
   "source": [
    "plot_timeseries(outliers.get_group(outliers_ids[15]))"
   ]
  },
  {
   "cell_type": "code",
   "execution_count": 21,
   "metadata": {},
   "outputs": [],
   "source": [
    "starts_df = df[df['sub_id'] == 0]"
   ]
  },
  {
   "cell_type": "code",
   "execution_count": null,
   "metadata": {},
   "outputs": [],
   "source": [
    "starts_df.head(10)"
   ]
  },
  {
   "cell_type": "code",
   "execution_count": null,
   "metadata": {},
   "outputs": [],
   "source": [
    "plt.figure(figsize=(10, 6))\n"
   ]
  },
  {
   "cell_type": "code",
   "execution_count": null,
   "metadata": {},
   "outputs": [],
   "source": [
    "grouped_df.get_group(4)"
   ]
  },
  {
   "cell_type": "code",
   "execution_count": null,
   "metadata": {},
   "outputs": [],
   "source": [
    "starts_df.loc[:, 'hour'] = starts_df['timestamp'].dt.hour"
   ]
  },
  {
   "cell_type": "code",
   "execution_count": null,
   "metadata": {},
   "outputs": [],
   "source": [
    "starts_df"
   ]
  },
  {
   "cell_type": "code",
   "execution_count": 27,
   "metadata": {},
   "outputs": [],
   "source": [
    "hour_df= starts_df.groupby('hour')"
   ]
  },
  {
   "cell_type": "code",
   "execution_count": null,
   "metadata": {},
   "outputs": [],
   "source": [
    "hour_counts = starts_df['hour'].value_counts().sort_index()\n",
    "\n",
    "plt.bar(hour_counts.index, hour_counts.values)\n",
    "plt.xlabel('Hour of the Day')\n",
    "plt.ylabel('Count')\n",
    "plt.title('Distribution of Charging Start Times')\n",
    "plt.xticks(range(24))\n",
    "plt.show()"
   ]
  },
  {
   "cell_type": "code",
   "execution_count": null,
   "metadata": {},
   "outputs": [],
   "source": [
    "starts_df.loc[:, 'day'] = starts_df['timestamp'].dt.dayofweek"
   ]
  },
  {
   "cell_type": "code",
   "execution_count": null,
   "metadata": {},
   "outputs": [],
   "source": [
    "starts_df"
   ]
  },
  {
   "cell_type": "code",
   "execution_count": null,
   "metadata": {},
   "outputs": [],
   "source": [
    "day_df= starts_df.groupby('day')\n",
    "day_counts = starts_df['day'].value_counts().sort_index()\n",
    "\n",
    "plt.bar(day_counts.index, day_counts.values)\n",
    "plt.xlabel('Day of the Week')\n",
    "plt.ylabel('Count')\n",
    "plt.title('Distribution of Charging Start Times')\n",
    "plt.show()"
   ]
  },
  {
   "cell_type": "code",
   "execution_count": null,
   "metadata": {},
   "outputs": [],
   "source": []
  }
 ],
 "metadata": {
  "kernelspec": {
   "display_name": ".venv",
   "language": "python",
   "name": "python3"
  },
  "language_info": {
   "codemirror_mode": {
    "name": "ipython",
    "version": 3
   },
   "file_extension": ".py",
   "mimetype": "text/x-python",
   "name": "python",
   "nbconvert_exporter": "python",
   "pygments_lexer": "ipython3",
   "version": "3.12.4"
  }
 },
 "nbformat": 4,
 "nbformat_minor": 2
}
